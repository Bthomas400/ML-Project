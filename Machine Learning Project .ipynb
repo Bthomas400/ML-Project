{
 "cells": [
  {
   "cell_type": "markdown",
   "metadata": {},
   "source": [
    "# Project: Selecting the Best Location for a New Oil Well"
   ]
  },
  {
   "cell_type": "markdown",
   "metadata": {},
   "source": [
    "## Introduction\n",
    "\n",
    "OilyGiant is a mining company focused on selecting optimal locations for oil extraction. The task is to develop a model to predict oil well reserves and select the most profitable location for a new well among three regions. We'll analyze the oil samples and predict the volume of reserves in new wells. The project will involve:\n",
    "\n",
    "- Collecting and preparing data from the three regions.\n",
    "- Building a linear regression model to predict oil reserves.\n",
    "- Calculating profit and analyzing potential risks.\n",
    "- Recommending the best region with the highest profit margin and lowest risk.\n",
    "\n",
    "We’ll use bootstrapping to estimate profits and risks. The objective is to ensure a positive return while minimizing the risk of loss below 2.5%."
   ]
  },
  {
   "cell_type": "markdown",
   "metadata": {},
   "source": [
    "## Import Libraries "
   ]
  },
  {
   "cell_type": "code",
   "execution_count": 30,
   "metadata": {},
   "outputs": [],
   "source": [
    "import pandas as pd\n",
    "from sklearn.model_selection import train_test_split\n",
    "from sklearn.linear_model import LinearRegression\n",
    "from sklearn.metrics import mean_squared_error\n",
    "from sklearn.preprocessing import StandardScaler\n",
    "from sklearn.model_selection import cross_val_score\n",
    "from sklearn.metrics import make_scorer, mean_squared_error\n",
    "from numpy.random import RandomState\n",
    "import numpy as np\n",
    "import matplotlib.pyplot as plt\n",
    "import seaborn as sns\n"
   ]
  },
  {
   "cell_type": "markdown",
   "metadata": {},
   "source": [
    "## Loading Data\n",
    "\n",
    "We will begin by loading the data sets and checking for dupilcates and missing values"
   ]
  },
  {
   "cell_type": "code",
   "execution_count": 31,
   "metadata": {},
   "outputs": [],
   "source": [
    "# Load the datasets\n",
    "geo_data_0 = pd.read_csv('/datasets/geo_data_0.csv')\n",
    "geo_data_1 = pd.read_csv('/datasets/geo_data_1.csv')\n",
    "geo_data_2 = pd.read_csv('/datasets/geo_data_2.csv')\n"
   ]
  },
  {
   "cell_type": "code",
   "execution_count": 32,
   "metadata": {},
   "outputs": [
    {
     "name": "stdout",
     "output_type": "stream",
     "text": [
      "<class 'pandas.core.frame.DataFrame'>\n",
      "RangeIndex: 100000 entries, 0 to 99999\n",
      "Data columns (total 5 columns):\n",
      " #   Column   Non-Null Count   Dtype  \n",
      "---  ------   --------------   -----  \n",
      " 0   id       100000 non-null  object \n",
      " 1   f0       100000 non-null  float64\n",
      " 2   f1       100000 non-null  float64\n",
      " 3   f2       100000 non-null  float64\n",
      " 4   product  100000 non-null  float64\n",
      "dtypes: float64(4), object(1)\n",
      "memory usage: 3.8+ MB\n"
     ]
    }
   ],
   "source": [
    "geo_data_0.info()"
   ]
  },
  {
   "cell_type": "markdown",
   "metadata": {},
   "source": [
    "The `geo_data_0` dataset contains 10000 rows and 5 columns: \n",
    "\n",
    "- `id` — unique oil well identifier\n",
    "- `f0` — feature of well\n",
    "- `f1` — feature of well\n",
    "- `f2` — feature of well\n",
    "- `product` — volume of reserves in the oil well (thousand barrels)\n",
    "\n",
    "Each column contains 10000 non-null values indicating no missing values "
   ]
  },
  {
   "cell_type": "code",
   "execution_count": 33,
   "metadata": {},
   "outputs": [
    {
     "data": {
      "text/plain": [
       "id         0\n",
       "f0         0\n",
       "f1         0\n",
       "f2         0\n",
       "product    0\n",
       "dtype: int64"
      ]
     },
     "execution_count": 33,
     "metadata": {},
     "output_type": "execute_result"
    }
   ],
   "source": [
    "#Verify no missing values\n",
    "geo_data_0.isnull().sum()"
   ]
  },
  {
   "cell_type": "code",
   "execution_count": 34,
   "metadata": {},
   "outputs": [
    {
     "data": {
      "text/plain": [
       "0"
      ]
     },
     "execution_count": 34,
     "metadata": {},
     "output_type": "execute_result"
    }
   ],
   "source": [
    "#Check for duplicates\n",
    "geo_data_0.duplicated().sum()"
   ]
  },
  {
   "cell_type": "markdown",
   "metadata": {},
   "source": [
    "There are no duplicates in the `geo_data_0` dataset"
   ]
  },
  {
   "cell_type": "code",
   "execution_count": 35,
   "metadata": {},
   "outputs": [
    {
     "name": "stdout",
     "output_type": "stream",
     "text": [
      "<class 'pandas.core.frame.DataFrame'>\n",
      "RangeIndex: 100000 entries, 0 to 99999\n",
      "Data columns (total 5 columns):\n",
      " #   Column   Non-Null Count   Dtype  \n",
      "---  ------   --------------   -----  \n",
      " 0   id       100000 non-null  object \n",
      " 1   f0       100000 non-null  float64\n",
      " 2   f1       100000 non-null  float64\n",
      " 3   f2       100000 non-null  float64\n",
      " 4   product  100000 non-null  float64\n",
      "dtypes: float64(4), object(1)\n",
      "memory usage: 3.8+ MB\n"
     ]
    }
   ],
   "source": [
    "geo_data_1.info()"
   ]
  },
  {
   "cell_type": "markdown",
   "metadata": {},
   "source": [
    "The `geo_data_1` dataset contains the same columns and number of rows as `geo_data_0`\n",
    "\n",
    "Each column contains 10000 non-null values indicating no missing values"
   ]
  },
  {
   "cell_type": "code",
   "execution_count": 36,
   "metadata": {},
   "outputs": [
    {
     "data": {
      "text/plain": [
       "id         0\n",
       "f0         0\n",
       "f1         0\n",
       "f2         0\n",
       "product    0\n",
       "dtype: int64"
      ]
     },
     "execution_count": 36,
     "metadata": {},
     "output_type": "execute_result"
    }
   ],
   "source": [
    "#Verify no missing values\n",
    "geo_data_1.isnull().sum()"
   ]
  },
  {
   "cell_type": "code",
   "execution_count": 37,
   "metadata": {},
   "outputs": [
    {
     "data": {
      "text/plain": [
       "0"
      ]
     },
     "execution_count": 37,
     "metadata": {},
     "output_type": "execute_result"
    }
   ],
   "source": [
    "#Check for duplicates\n",
    "geo_data_1.duplicated().sum()"
   ]
  },
  {
   "cell_type": "markdown",
   "metadata": {},
   "source": [
    "There are no duplicates in the `geo_data_1` dataset"
   ]
  },
  {
   "cell_type": "code",
   "execution_count": 38,
   "metadata": {
    "scrolled": true
   },
   "outputs": [
    {
     "name": "stdout",
     "output_type": "stream",
     "text": [
      "<class 'pandas.core.frame.DataFrame'>\n",
      "RangeIndex: 100000 entries, 0 to 99999\n",
      "Data columns (total 5 columns):\n",
      " #   Column   Non-Null Count   Dtype  \n",
      "---  ------   --------------   -----  \n",
      " 0   id       100000 non-null  object \n",
      " 1   f0       100000 non-null  float64\n",
      " 2   f1       100000 non-null  float64\n",
      " 3   f2       100000 non-null  float64\n",
      " 4   product  100000 non-null  float64\n",
      "dtypes: float64(4), object(1)\n",
      "memory usage: 3.8+ MB\n"
     ]
    }
   ],
   "source": [
    "geo_data_2.info()"
   ]
  },
  {
   "cell_type": "markdown",
   "metadata": {},
   "source": [
    "The `geo_data_2` dataset contains the same columns and number of rows as `geo_data_0` and `geo_data_1`\n",
    "\n",
    "Each column contains 10000 non-null values indicating no missing values"
   ]
  },
  {
   "cell_type": "code",
   "execution_count": 39,
   "metadata": {},
   "outputs": [
    {
     "data": {
      "text/plain": [
       "id         0\n",
       "f0         0\n",
       "f1         0\n",
       "f2         0\n",
       "product    0\n",
       "dtype: int64"
      ]
     },
     "execution_count": 39,
     "metadata": {},
     "output_type": "execute_result"
    }
   ],
   "source": [
    "#Verify no missing values\n",
    "geo_data_2.isnull().sum()"
   ]
  },
  {
   "cell_type": "code",
   "execution_count": 40,
   "metadata": {},
   "outputs": [
    {
     "data": {
      "text/plain": [
       "0"
      ]
     },
     "execution_count": 40,
     "metadata": {},
     "output_type": "execute_result"
    }
   ],
   "source": [
    "#Check for duplicates\n",
    "geo_data_2.duplicated().sum()"
   ]
  },
  {
   "cell_type": "markdown",
   "metadata": {},
   "source": [
    "There are no duplicates in the `geo_data_2` dataset"
   ]
  },
  {
   "cell_type": "markdown",
   "metadata": {},
   "source": [
    "## Exploratory Data Analysis \n",
    "\n",
    "Now we will explore the data futher, making sure there is no duplicates in the `id` column and and analyzing the distribution in each dataframe. "
   ]
  },
  {
   "cell_type": "code",
   "execution_count": 41,
   "metadata": {},
   "outputs": [
    {
     "name": "stdout",
     "output_type": "stream",
     "text": [
      "Number of duplicate ids in geo_data_0: 10\n",
      "Number of duplicate ids in geo_data_1: 4\n",
      "Number of duplicate ids in geo_data_2: 4\n"
     ]
    }
   ],
   "source": [
    "# Check for duplicates in the 'id' column in each dataset\n",
    "id_duplicates_0 = geo_data_0['id'].duplicated().sum()\n",
    "id_duplicates_1 = geo_data_1['id'].duplicated().sum()\n",
    "id_duplicates_2 = geo_data_2['id'].duplicated().sum()\n",
    "\n",
    "print(f\"Number of duplicate ids in geo_data_0: {id_duplicates_0}\")\n",
    "print(f\"Number of duplicate ids in geo_data_1: {id_duplicates_1}\")\n",
    "print(f\"Number of duplicate ids in geo_data_2: {id_duplicates_2}\")\n"
   ]
  },
  {
   "cell_type": "markdown",
   "metadata": {},
   "source": [
    "<b>Duplicate ID Check:</b>\n",
    "\n",
    "- geo_data_0 contains 10 duplicate IDs.\n",
    "- geo_data_1 contains 4 duplicate IDs.\n",
    "- geo_data_2 contains 4 duplicate IDs.\n",
    "\n",
    "Duplicate IDs can indicate that some oil wells may be repeated, which could introduce bias or inaccuracies in model training. Therefore, it is essential to remove these duplicates before further analysis or modeling."
   ]
  },
  {
   "cell_type": "code",
   "execution_count": 42,
   "metadata": {},
   "outputs": [
    {
     "name": "stdout",
     "output_type": "stream",
     "text": [
      "Number of rows after removing duplicates in geo_data_0: 99990\n",
      "Number of rows after removing duplicates in geo_data_1: 99996\n",
      "Number of rows after removing duplicates in geo_data_2: 99996\n"
     ]
    }
   ],
   "source": [
    "# Remove duplicates based on 'id' column in each dataset\n",
    "geo_data_0_clean = geo_data_0.drop_duplicates(subset=['id'])\n",
    "geo_data_1_clean = geo_data_1.drop_duplicates(subset=['id'])\n",
    "geo_data_2_clean = geo_data_2.drop_duplicates(subset=['id'])\n",
    "\n",
    "# Verify the number of remaining rows\n",
    "print(f\"Number of rows after removing duplicates in geo_data_0: {len(geo_data_0_clean)}\")\n",
    "print(f\"Number of rows after removing duplicates in geo_data_1: {len(geo_data_1_clean)}\")\n",
    "print(f\"Number of rows after removing duplicates in geo_data_2: {len(geo_data_2_clean)}\")\n"
   ]
  },
  {
   "cell_type": "markdown",
   "metadata": {},
   "source": [
    "After removing all duplicates the data now contains unique well infromation and is ready for further analysis"
   ]
  },
  {
   "cell_type": "markdown",
   "metadata": {},
   "source": [
    "### Analyze the distributions of features and target variable\n",
    "\n",
    "We will create histograms and box plots to visualize the distributions of the `f0`, `f1`, `f2`, and `product` columns in each dataset. This will give insight into the range, central tendencies, and spread of the data, as well as the presence of outliers."
   ]
  },
  {
   "cell_type": "code",
   "execution_count": 43,
   "metadata": {
    "scrolled": false
   },
   "outputs": [
    {
     "data": {
      "image/png": "[encoded data removed]",
      "text/plain": [
       "<Figure size 1000x600 with 1 Axes>"
      ]
     },
     "metadata": {},
     "output_type": "display_data"
    }
   ],
   "source": [
    "# Define the features to plot\n",
    "columns_to_plot = ['f0', 'f1', 'f2']\n",
    "\n",
    "# Create Box Plot for Region 0 Features\n",
    "plt.figure(figsize=(10, 6))\n",
    "geo_data_0_clean[columns_to_plot].boxplot()\n",
    "plt.title('Box Plot of Feature Distributions - Region 0')\n",
    "plt.ylabel('Value')\n",
    "plt.xlabel('Feature')\n",
    "plt.xticks(rotation=45)\n",
    "plt.tight_layout()\n",
    "plt.show()\n"
   ]
  },
  {
   "cell_type": "markdown",
   "metadata": {},
   "source": [
    "<b> Feature `f0` and `f1`:</b> Both features appear to be centered around zero, with a relatively small spread. This suggests that the values of these features are tightly clustered around the mean, with minimal variation.\n",
    "\n",
    "<b>Feature `f2`:</b> This feature shows significant spread and many outliers on both the lower and upper ends, with values ranging from approximately -10 to 15. The wide range and numerous outliers suggest that this feature has more variability and could be skewed."
   ]
  },
  {
   "cell_type": "code",
   "execution_count": 44,
   "metadata": {
    "scrolled": false
   },
   "outputs": [
    {
     "data": {
      "image/png": "[encoded data removed]",
      "text/plain": [
       "<Figure size 1000x600 with 1 Axes>"
      ]
     },
     "metadata": {},
     "output_type": "display_data"
    }
   ],
   "source": [
    "# Create Box Plot for Region 1 Features\n",
    "plt.figure(figsize=(10, 6))\n",
    "geo_data_1_clean[columns_to_plot].boxplot()\n",
    "plt.title('Box Plot of Feature Distributions - Region 1')\n",
    "plt.ylabel('Value')\n",
    "plt.xlabel('Feature')\n",
    "plt.xticks(rotation=45)\n",
    "plt.tight_layout()\n",
    "plt.show()\n"
   ]
  },
  {
   "cell_type": "markdown",
   "metadata": {},
   "source": [
    "In Region 1, feature `f0` has a much wider range than in Region 0, indicating considerable variability. Outliers in both `f0` and `f1` could affect model predictions, especially if these points represent noise or errors. Feature `f2` appears to have a more stable distribution."
   ]
  },
  {
   "cell_type": "code",
   "execution_count": 45,
   "metadata": {
    "scrolled": false
   },
   "outputs": [
    {
     "data": {
      "image/png": "[encoded data removed]",
      "text/plain": [
       "<Figure size 1000x600 with 1 Axes>"
      ]
     },
     "metadata": {},
     "output_type": "display_data"
    }
   ],
   "source": [
    "# Create Box Plot for Region 2 Features\n",
    "plt.figure(figsize=(10, 6))\n",
    "geo_data_2_clean[columns_to_plot].boxplot()\n",
    "plt.title('Box Plot of Feature Distributions - Region 2')\n",
    "plt.ylabel('Value')\n",
    "plt.xlabel('Feature')\n",
    "plt.xticks(rotation=45)\n",
    "plt.tight_layout()\n",
    "plt.show()"
   ]
  },
  {
   "cell_type": "markdown",
   "metadata": {},
   "source": [
    "In Region 2, feature `f2` again exhibits considerable variability and numerous outliers, similar to Region 0. Features `f0` and `f1` are tightly distributed with minimal variability. Like Region 0, the presence of outliers in `f2` may impact modeling and require further preprocessing.\n"
   ]
  },
  {
   "cell_type": "markdown",
   "metadata": {},
   "source": [
    "<b>Overall Analysis</b>\n",
    "\n",
    "<b>Feature Variability:</b> Across all regions, `f`2 is consistently the most variable feature, with a wide range and numerous outliers. In contrast, `f0` and `f1` tend to have more compact distributions, with some variation in Region 1 (`f0`).\n",
    "\n",
    "<b>Outliers:</b> Outliers are present in all features across regions, especially in `f2` and `f0` (Region 1). These outliers might affect model performance and should be considered for handling (e.g., through scaling, transformations, or removing extreme values).\n",
    "\n",
    "<b>Impact on Modeling:</b> Features with a wide range and many outliers, such as `f2`, could introduce instability into models. Feature scaling (such as normalization or standardization) may be necessary to bring all features to the same scale. "
   ]
  },
  {
   "cell_type": "markdown",
   "metadata": {},
   "source": [
    "## Model Training and Evaluation for Each Region\n",
    "\n",
    "We'll start by training a linear regression model for each region to predict oil reserves based on the features provided."
   ]
  },
  {
   "cell_type": "markdown",
   "metadata": {},
   "source": [
    "###  Splitting the Data into Training and Validation Sets\n",
    "\n",
    "We'll split the data into a training set (75%) and a validation set (25%)."
   ]
  },
  {
   "cell_type": "code",
   "execution_count": 46,
   "metadata": {},
   "outputs": [],
   "source": [
    "# Splitting the data for Region 0\n",
    "features_0 = geo_data_0.drop(['product', 'id'], axis=1)\n",
    "target_0 = geo_data_0['product']\n",
    "\n",
    "features_train_0, features_valid_0, target_train_0, target_valid_0 = train_test_split(\n",
    "    features_0, target_0, test_size=0.25, random_state=42)\n",
    "\n",
    "# Repeat for Region 1\n",
    "features_1 = geo_data_1.drop(['product', 'id'], axis=1)\n",
    "target_1 = geo_data_1['product']\n",
    "\n",
    "features_train_1, features_valid_1, target_train_1, target_valid_1 = train_test_split(\n",
    "    features_1, target_1, test_size=0.25, random_state=42)\n",
    "\n",
    "# Repeat for Region 2\n",
    "features_2 = geo_data_2.drop(['product', 'id'], axis=1)\n",
    "target_2 = geo_data_2['product']\n",
    "\n",
    "features_train_2, features_valid_2, target_train_2, target_valid_2 = train_test_split(\n",
    "    features_2, target_2, test_size=0.25, random_state=42)"
   ]
  },
  {
   "cell_type": "markdown",
   "metadata": {},
   "source": [
    "We split the data for each region into a training set (75%) and a validation set (25%) to evaluate our model's performance. The random_state ensures reproducibility."
   ]
  },
  {
   "cell_type": "markdown",
   "metadata": {},
   "source": [
    "### Training the Linear Regression Model\n",
    "\n",
    "We'll train a simple linear regression model for each region."
   ]
  },
  {
   "cell_type": "code",
   "execution_count": 47,
   "metadata": {},
   "outputs": [
    {
     "data": {
      "text/plain": [
       "LinearRegression()"
      ]
     },
     "execution_count": 47,
     "metadata": {},
     "output_type": "execute_result"
    }
   ],
   "source": [
    "# Training the model for Region 0\n",
    "model_0 = LinearRegression()\n",
    "model_0.fit(features_train_0, target_train_0)\n",
    "\n",
    "# Repeat for Region 1\n",
    "model_1 = LinearRegression()\n",
    "model_1.fit(features_train_1, target_train_1)\n",
    "\n",
    "# Repeat for Region 2\n",
    "model_2 = LinearRegression()\n",
    "model_2.fit(features_train_2, target_train_2)"
   ]
  },
  {
   "cell_type": "markdown",
   "metadata": {},
   "source": [
    "### Making Predictions\n",
    "\n",
    "After training, we will use the validation sets to make predictions and store them."
   ]
  },
  {
   "cell_type": "code",
   "execution_count": 48,
   "metadata": {},
   "outputs": [],
   "source": [
    "# Predicting on validation set for Region 0\n",
    "predictions_valid_0 = model_0.predict(features_valid_0)\n",
    "\n",
    "# Repeat for Region 1\n",
    "predictions_valid_1 = model_1.predict(features_valid_1)\n",
    "\n",
    "# Repeat for Region 2\n",
    "predictions_valid_2 = model_2.predict(features_valid_2)"
   ]
  },
  {
   "cell_type": "markdown",
   "metadata": {},
   "source": [
    "### Calculate RMSE for Each Model\n",
    "\n",
    "We'll evaluate the models using Root Mean Squared Error (RMSE)."
   ]
  },
  {
   "cell_type": "code",
   "execution_count": 49,
   "metadata": {},
   "outputs": [
    {
     "data": {
      "text/plain": [
       "(37.756600350261685, 0.890280100102884, 40.14587231134218)"
      ]
     },
     "execution_count": 49,
     "metadata": {},
     "output_type": "execute_result"
    }
   ],
   "source": [
    "# RMSE for Region 0\n",
    "rmse_0 = np.sqrt(mean_squared_error(target_valid_0, predictions_valid_0))\n",
    "\n",
    "# RMSE for Region 1\n",
    "rmse_1 = np.sqrt(mean_squared_error(target_valid_1, predictions_valid_1))\n",
    "\n",
    "# RMSE for Region 2\n",
    "rmse_2 = np.sqrt(mean_squared_error(target_valid_2, predictions_valid_2))\n",
    "\n",
    "rmse_0, rmse_1, rmse_2"
   ]
  },
  {
   "cell_type": "markdown",
   "metadata": {},
   "source": [
    "<b>Findings:</b> We calculated the Root Mean Squared Error (RMSE) for each model across the three regions to evaluate the accuracy of the predictions. The RMSE values are as follows:\n",
    "\n",
    "- Region 0: 37.76\n",
    "- Region 1: 0.89\n",
    "- Region 2: 40.15\n",
    "\n",
    "The RMSE measures the average magnitude of the prediction error, with lower values indicating better model performance."
   ]
  },
  {
   "cell_type": "markdown",
   "metadata": {},
   "source": [
    "<b>Analysis:</b>\n",
    "\n",
    "- Region 1 has the lowest RMSE (0.89), suggesting that the model for this region makes predictions that are much closer to the actual oil reserves compared to the other regions.\n",
    "- Region 0 and Region 2 have higher RMSE values (37.76 and 40.15, respectively), indicating less accurate predictions and larger deviations from the actual oil volumes.\n",
    "\n",
    "While Region 1's model is significantly more accurate, it does not necessarily guarantee the highest profit potential, as profit calculations also depend on oil well volumes, costs, and risk assessments. However, the low RMSE in Region 1 provides confidence in the model's predictions.\n",
    "\n"
   ]
  },
  {
   "cell_type": "markdown",
   "metadata": {},
   "source": [
    "## Model Improvments\n",
    "Now we will standardize the features and split the data using cross-validation to enhance the models."
   ]
  },
  {
   "cell_type": "markdown",
   "metadata": {},
   "source": [
    "### Standardizing the Features\n",
    "We'll use StandardScaler from sklearn.preprocessing to standardize the features."
   ]
  },
  {
   "cell_type": "code",
   "execution_count": 50,
   "metadata": {},
   "outputs": [],
   "source": [
    "# Initialize the scaler\n",
    "scaler = StandardScaler()\n",
    "\n",
    "# Standardize features for Region 0\n",
    "features_train_0_scaled = scaler.fit_transform(features_train_0)\n",
    "features_valid_0_scaled = scaler.transform(features_valid_0)\n",
    "\n",
    "# Standardize features for Region 1\n",
    "features_train_1_scaled = scaler.fit_transform(features_train_1)\n",
    "features_valid_1_scaled = scaler.transform(features_valid_1)\n",
    "\n",
    "# Standardize features for Region 2\n",
    "features_train_2_scaled = scaler.fit_transform(features_train_2)\n",
    "features_valid_2_scaled = scaler.transform(features_valid_2)"
   ]
  },
  {
   "cell_type": "markdown",
   "metadata": {},
   "source": [
    "### Applying Cross-Validation\n",
    "We'll apply cross-validation using cross_val_score from sklearn.model_selection to ensure our model generalizes well across different splits."
   ]
  },
  {
   "cell_type": "code",
   "execution_count": 51,
   "metadata": {},
   "outputs": [
    {
     "data": {
      "text/plain": [
       "(37.67270420941471, 0.8904595971256916, 40.02706157728321)"
      ]
     },
     "execution_count": 51,
     "metadata": {},
     "output_type": "execute_result"
    }
   ],
   "source": [
    "# Initialize the model\n",
    "model = LinearRegression()\n",
    "\n",
    "# Perform cross-validation for Region 0\n",
    "cv_scores_0 = cross_val_score(model, features_train_0_scaled, target_train_0, cv=5, scoring='neg_mean_squared_error')\n",
    "rmse_cv_0 = np.sqrt(-cv_scores_0.mean())\n",
    "\n",
    "# Perform cross-validation for Region 1\n",
    "cv_scores_1 = cross_val_score(model, features_train_1_scaled, target_train_1, cv=5, scoring='neg_mean_squared_error')\n",
    "rmse_cv_1 = np.sqrt(-cv_scores_1.mean())\n",
    "\n",
    "# Perform cross-validation for Region 2\n",
    "cv_scores_2 = cross_val_score(model, features_train_2_scaled, target_train_2, cv=5, scoring='neg_mean_squared_error')\n",
    "rmse_cv_2 = np.sqrt(-cv_scores_2.mean())\n",
    "\n",
    "# Display cross-validation results\n",
    "rmse_cv_0, rmse_cv_1, rmse_cv_2"
   ]
  },
  {
   "cell_type": "markdown",
   "metadata": {},
   "source": [
    "<b>Findings:</b> We applied 5-fold cross-validation to each model for the three regions to ensure that the model generalizes well across different subsets of the data. The resulting RMSE values for each region after cross-validation are:\n",
    "\n",
    "- Region 0: 37.67\n",
    "- Region 1: 0.89\n",
    "- Region 2: 40.03\n",
    "\n",
    "The cross-validation results reinforce the finding that Region 1 has the most accurate and robust model, with a significantly lower RMSE than the other two regions. This consistency strengthens the argument for further exploring Region 1 as a potential site for oil well development, though the final decision will also need to incorporate profit and risk analyses."
   ]
  },
  {
   "cell_type": "markdown",
   "metadata": {},
   "source": [
    "## Profit Calculations "
   ]
  },
  {
   "cell_type": "markdown",
   "metadata": {},
   "source": [
    "### Preparing for Profit Calculation\n",
    "We need to calculate the volume of oil reserves necessary to break even and compare that with the average predicted volume of reserves in each region.\n",
    "\n",
    "We already know:\n",
    "\n",
    "- Budget: 100 million\n",
    "- Revenue per thousand barrels: $4,500\n",
    "- Number of oil wells to develop: 200\n",
    "\n",
    "Let’s calculate the minimum volume of reserves required to avoid losses (break-even point)."
   ]
  },
  {
   "cell_type": "markdown",
   "metadata": {},
   "source": [
    "### Setting Key Values\n",
    "Now, we calculate the volume of reserves necessary to break even and store relevant financial values."
   ]
  },
  {
   "cell_type": "code",
   "execution_count": 52,
   "metadata": {},
   "outputs": [
    {
     "name": "stdout",
     "output_type": "stream",
     "text": [
      "The minimum volume of reserves per well required to avoid losses: 111.11 thousand barrels\n"
     ]
    }
   ],
   "source": [
    "# Define constants in uppercase\n",
    "BUDGET = 100e6  # 100 million dollars\n",
    "OIL_WELLS_TO_DEVELOP = 200\n",
    "REVENUE_PER_THOUSAND_BARRELS = 4.5e3  # 4,500 dollars per thousand barrels\n",
    "\n",
    "# Break-even point (in thousand barrels)\n",
    "break_even_volume_per_well = BUDGET / (OIL_WELLS_TO_DEVELOP * REVENUE_PER_THOUSAND_BARRELS)\n",
    "\n",
    "print(f\"The minimum volume of reserves per well required to avoid losses: {break_even_volume_per_well:.2f} thousand barrels\")\n",
    "\n"
   ]
  },
  {
   "cell_type": "markdown",
   "metadata": {},
   "source": [
    "The break-even point was calculated based on the project budget, the number of wells to develop (200), and the revenue per thousand barrels of oil ($4,500). The required minimum oil reserves per well to break even is 111.11 thousand barrels.\n",
    "\n",
    "\n",
    "This break-even point is critical for evaluating the profitability of developing oil wells in each region. The key insight here is that for an oil well to be financially viable, it must produce at least 111.11 thousand barrels of oil. Any region with an average predicted reserve volume lower than this threshold will likely lead to losses, while regions with higher reserves may be profitable."
   ]
  },
  {
   "cell_type": "markdown",
   "metadata": {},
   "source": [
    "### Comparing with Average Predicted Reserves in Each Region\n",
    "Now we’ll calculate the average predicted reserves in each region."
   ]
  },
  {
   "cell_type": "code",
   "execution_count": 53,
   "metadata": {},
   "outputs": [
    {
     "name": "stdout",
     "output_type": "stream",
     "text": [
      "Average predicted reserves for Region 0: 92.40 thousand barrels\n",
      "Average predicted reserves for Region 1: 68.71 thousand barrels\n",
      "Average predicted reserves for Region 2: 94.77 thousand barrels\n"
     ]
    }
   ],
   "source": [
    "# Average predicted volume for Region 0\n",
    "avg_pred_volume_0 = predictions_valid_0.mean()\n",
    "\n",
    "# Average predicted volume for Region 1\n",
    "avg_pred_volume_1 = predictions_valid_1.mean()\n",
    "\n",
    "# Average predicted volume for Region 2\n",
    "avg_pred_volume_2 = predictions_valid_2.mean()\n",
    "\n",
    "print(f\"Average predicted reserves for Region 0: {avg_pred_volume_0:.2f} thousand barrels\")\n",
    "print(f\"Average predicted reserves for Region 1: {avg_pred_volume_1:.2f} thousand barrels\")\n",
    "print(f\"Average predicted reserves for Region 2: {avg_pred_volume_2:.2f} thousand barrels\")\n"
   ]
  },
  {
   "cell_type": "markdown",
   "metadata": {},
   "source": [
    "At this stage, none of the regions reach the minimum required reserve volume per well to break even. Although Region 1 continues to perform well in terms of model accuracy (low RMSE), its low predicted reserves make it the least promising region from a financial perspective. The final decision will need to consider profit distributions and risk analyses to determine which region has the highest chance of profitability despite the lower-than-required average reserves.\n"
   ]
  },
  {
   "cell_type": "code",
   "execution_count": 54,
   "metadata": {
    "scrolled": true
   },
   "outputs": [
    {
     "name": "stdout",
     "output_type": "stream",
     "text": [
      "Real average reserves for Region 0: 92.33 thousand barrels\n",
      "Real average reserves for Region 1: 68.73 thousand barrels\n",
      "Real average reserves for Region 2: 95.15 thousand barrels\n"
     ]
    }
   ],
   "source": [
    "# Calculate the real average volume for each region\n",
    "real_avg_volume_0 = target_valid_0.mean()\n",
    "real_avg_volume_1 = target_valid_1.mean()\n",
    "real_avg_volume_2 = target_valid_2.mean()\n",
    "\n",
    "print(f\"Real average reserves for Region 0: {real_avg_volume_0:.2f} thousand barrels\")\n",
    "print(f\"Real average reserves for Region 1: {real_avg_volume_1:.2f} thousand barrels\")\n",
    "print(f\"Real average reserves for Region 2: {real_avg_volume_2:.2f} thousand barrels\")\n"
   ]
  },
  {
   "cell_type": "markdown",
   "metadata": {},
   "source": [
    "<b>Analysis:</b>\n",
    "\n",
    "<b>Region 0:</b> The predicted average reserves (92.40) closely match the real reserves (92.33), indicating a highly accurate model.\n",
    "\n",
    "<b>Region 1:</b> Although the predicted reserves (68.71) are nearly identical to the real reserves (68.73), the low overall volume still makes this region less attractive for development.\n",
    "\n",
    "<b>Region 2:</b> The predicted reserves (94.77) are quite close to the real reserves (95.15), showing good model performance.\n",
    "\n",
    "All regions exhibit strong model performance, with predictions closely aligning with actual reserves. However, despite this accuracy, none of the regions meet the required minimum volume per well (111.11 thousand barrels) to break even, necessitating further analysis focused on profit and risk distributions before finalizing decisions."
   ]
  },
  {
   "cell_type": "markdown",
   "metadata": {},
   "source": [
    "### Calculating Profit\n",
    "To calculate profit, we'll select the top 200 wells with the highest predicted oil reserves and compute the total profit.\n",
    "\n",
    "We’ll define a function to calculate profit based on the selected wells."
   ]
  },
  {
   "cell_type": "code",
   "execution_count": 55,
   "metadata": {},
   "outputs": [
    {
     "name": "stdout",
     "output_type": "stream",
     "text": [
      "Profit for Region 0: $33591411.14\n",
      "Profit for Region 1: $24150866.97\n",
      "Profit for Region 2: $25985717.59\n"
     ]
    }
   ],
   "source": [
    "def calculate_profit(predictions, target):\n",
    "    # Select the top 200 wells based on predictions\n",
    "    top_200_wells = predictions.sort_values(ascending=False)[:OIL_WELLS_TO_DEVELOP]\n",
    "    selected_reserves = target.loc[top_200_wells.index].sum()\n",
    "    \n",
    "    # Calculate total profit\n",
    "    total_profit = (selected_reserves * REVENUE_PER_THOUSAND_BARRELS) - BUDGET\n",
    "    return total_profit\n",
    "\n",
    "# Convert predictions to pandas Series for easy sorting\n",
    "predictions_valid_0_series = pd.Series(predictions_valid_0, index=target_valid_0.index)\n",
    "predictions_valid_1_series = pd.Series(predictions_valid_1, index=target_valid_1.index)\n",
    "predictions_valid_2_series = pd.Series(predictions_valid_2, index=target_valid_2.index)\n",
    "\n",
    "# Calculate profit for each region\n",
    "profit_0 = calculate_profit(predictions_valid_0_series, target_valid_0)\n",
    "profit_1 = calculate_profit(predictions_valid_1_series, target_valid_1)\n",
    "profit_2 = calculate_profit(predictions_valid_2_series, target_valid_2)\n",
    "\n",
    "print(f\"Profit for Region 0: ${profit_0:.2f}\")\n",
    "print(f\"Profit for Region 1: ${profit_1:.2f}\")\n",
    "print(f\"Profit for Region 2: ${profit_2:.2f}\")"
   ]
  },
  {
   "cell_type": "markdown",
   "metadata": {},
   "source": [
    "<b>Findings:</b> The profit for each region was calculated by selecting the top 200 wells with the highest predicted reserves and summing their actual reserves. The profits are as follows:\n",
    "\n",
    "- Region 0: \\\\$33,591,411.14\n",
    "- Region 1: \\\\$24,150,866.97\n",
    "- Region 2: \\\\$25,985,717.59\n",
    "\n",
    "<b>Analysis:</b>\n",
    "\n",
    "- Region 0 shows the highest potential profit of over \\\\$33 million, making it the most financially attractive region at this stage.\n",
    "- Region 1 yields the lowest profit at around \\\\$24 million, which is consistent with its low average predicted reserves from earlier steps.\n",
    "- Region 2 falls between Region 0 and Region 1 with a profit of around \\\\$26 million, but it still lags behind Region 0 by a significant margin.\n",
    "These calculations provide an important perspective on potential profitability, taking into account the top-performing wells in each region. While the average predicted reserves per well were below the break-even point in all regions, selecting the best-performing wells makes Region 0 the most attractive choice due to its higher total profit.\n",
    "\n",
    "Region 0 is currently the most promising region for oil well development based on potential profit, followed by Region 2. Region 1 consistently performs poorly in terms of both average reserves and profit. The next step will involve evaluating risk and further refining the selection of the best region for development."
   ]
  },
  {
   "cell_type": "markdown",
   "metadata": {},
   "source": [
    "## Calculating Risks and Profit using Bootstrapping\n",
    "Finally, we’ll use bootstrapping to estimate risks, calculate confidence intervals, and assess the probability of loss for each region."
   ]
  },
  {
   "cell_type": "code",
   "execution_count": 56,
   "metadata": {},
   "outputs": [],
   "source": [
    "state = RandomState(42)\n",
    "\n",
    "def bootstrap_profit(predictions, target, n_samples=1000):\n",
    "    profits = []\n",
    "    \n",
    "    for i in range(n_samples):\n",
    "        # Randomly select 500 wells with replacement\n",
    "        subsample = target.sample(n=500, replace=True, random_state=state)\n",
    "        subsample_predictions = predictions.loc[subsample.index]\n",
    "        \n",
    "        # Calculate profit for this sample\n",
    "        profit = calculate_profit(subsample_predictions, subsample)\n",
    "        profits.append(profit)\n",
    "    \n",
    "    # Convert to a numpy array\n",
    "    profits = np.array(profits)\n",
    "    \n",
    "    # Calculate risk (probability of loss)\n",
    "    loss_risk = (profits < 0).mean()\n",
    "    \n",
    "    # Calculate average profit and 95% confidence interval\n",
    "    avg_profit = profits.mean()\n",
    "    confidence_interval = np.percentile(profits, [2.5, 97.5])\n",
    "    \n",
    "    return avg_profit, confidence_interval, loss_risk"
   ]
  },
  {
   "cell_type": "markdown",
   "metadata": {},
   "source": [
    "### Applying Bootstrapping to Each Region\n",
    "We’ll calculate the average profit, 95% confidence interval, and risk of losses for each region."
   ]
  },
  {
   "cell_type": "code",
   "execution_count": 57,
   "metadata": {},
   "outputs": [
    {
     "name": "stdout",
     "output_type": "stream",
     "text": [
      "Region 0 - Avg. Profit: $6061226.32, Confidence Interval: [  100894.11995842 12463709.80564568], Risk of Loss: 2.50%\n",
      "Region 1 - Avg. Profit: $6624132.05, Confidence Interval: [ 1488000.10967877 11869774.26069637], Risk of Loss: 0.30%\n",
      "Region 2 - Avg. Profit: $5920520.21, Confidence Interval: [   24648.0077138  12548273.60505053], Risk of Loss: 2.50%\n"
     ]
    }
   ],
   "source": [
    "# Bootstrapping for Region 0\n",
    "avg_profit_0, conf_interval_0, risk_0 = bootstrap_profit(predictions_valid_0_series, target_valid_0)\n",
    "\n",
    "# Bootstrapping for Region 1\n",
    "avg_profit_1, conf_interval_1, risk_1 = bootstrap_profit(predictions_valid_1_series, target_valid_1)\n",
    "\n",
    "# Bootstrapping for Region 2\n",
    "avg_profit_2, conf_interval_2, risk_2 = bootstrap_profit(predictions_valid_2_series, target_valid_2)\n",
    "\n",
    "# Display results\n",
    "print(f\"Region 0 - Avg. Profit: ${avg_profit_0:.2f}, Confidence Interval: {conf_interval_0}, Risk of Loss: {risk_0:.2%}\")\n",
    "print(f\"Region 1 - Avg. Profit: ${avg_profit_1:.2f}, Confidence Interval: {conf_interval_1}, Risk of Loss: {risk_1:.2%}\")\n",
    "print(f\"Region 2 - Avg. Profit: ${avg_profit_2:.2f}, Confidence Interval: {conf_interval_2}, Risk of Loss: {risk_2:.2%}\")"
   ]
  },
  {
   "cell_type": "markdown",
   "metadata": {},
   "source": [
    "Bootstrapping was applied to each region to assess the risks and potential profits. The results are:\n",
    "\n",
    "<b>Region 0:</b>\n",
    "- Average Profit: \\\\$6,061,226.32\n",
    "- Confidence Interval: \\\\$100,894.12 to \\\\$12,463,709.81\n",
    "- Risk of Loss: 2.5%\n",
    "\n",
    "<b>Region 1:</b>\n",
    "- Average Profit: \\\\$6,624,132.05\n",
    "- Confidence Interval: \\\\$1,488,000.11 to \\\\$11,869,774.26\n",
    "- Risk of Loss: 0.3%\n",
    "\n",
    "<b>Region 2:</b>\n",
    "- Average Profit: \\\\$5,920,520.21\n",
    "- Confidence Interval: \\\\$24,648.01 to \\\\$12,548,273.61\n",
    "- Risk of Loss: 2.5%\n",
    "\n",
    "<b>Analysis:</b>\n",
    "\n",
    "Region 1 has the highest average profit of \\\\$6.6 million, the lowest risk of loss (0.3%), and a narrower confidence interval than Region 0. This suggests that Region 1 offers more stable and consistent returns with minimal risk, even though its average profit only marginally exceeds Region 0.\n",
    "\n",
    "Region 0 has a slightly lower average profit at \\\\$6 million, but its confidence interval is broader than Region 1, indicating more variability in the potential outcomes. Additionally, it carries a higher risk of loss (2.5%) than Region 1.\n",
    "\n",
    "Region 2, with the lowest average profit of \\\\$5.9 million, also has a risk of loss of 2.5%. Like Region 0, it exhibits significant variability in outcomes, as reflected by its wide confidence interval."
   ]
  },
  {
   "cell_type": "markdown",
   "metadata": {},
   "source": [
    "## Conclusion\n",
    "\n",
    "Although Region 0 initially seemed the most promising based on predicted profit, the bootstrapping analysis shows that Region 1 is the most favorable option. It has the highest average profit, lowest risk, and a relatively stable range of outcomes. Despite Region 0’s high potential profit, the associated risk and variability make Region 1 a more reliable choice for oil well development. Region 2, while not the worst option, lags behind both other regions in terms of average profit.\n",
    "\n",
    "Given the need to balance profit with acceptable risk, Region 1 is recommended for development."
   ]
  }
 ],
 "metadata": {
  "ExecuteTimeLog": [
   {
    "duration": 774,
    "start_time": "2024-09-04T05:42:49.251Z"
   },
   {
    "duration": 537,
    "start_time": "2024-09-04T05:44:36.931Z"
   },
   {
    "duration": 296,
    "start_time": "2024-09-04T05:45:24.187Z"
   },
   {
    "duration": 255,
    "start_time": "2024-09-04T05:45:39.226Z"
   },
   {
    "duration": 265,
    "start_time": "2024-09-04T05:45:48.625Z"
   },
   {
    "duration": 235,
    "start_time": "2024-09-04T05:46:03.938Z"
   },
   {
    "duration": 216,
    "start_time": "2024-09-04T05:46:11.663Z"
   },
   {
    "duration": 222,
    "start_time": "2024-09-04T05:46:16.237Z"
   },
   {
    "duration": 839,
    "start_time": "2024-09-05T02:16:27.867Z"
   },
   {
    "duration": 414,
    "start_time": "2024-09-05T02:16:29.878Z"
   },
   {
    "duration": 248,
    "start_time": "2024-09-05T02:16:35.589Z"
   },
   {
    "duration": 274,
    "start_time": "2024-09-05T02:16:47.706Z"
   },
   {
    "duration": 261,
    "start_time": "2024-09-05T02:17:24.212Z"
   },
   {
    "duration": 18,
    "start_time": "2024-09-05T02:17:58.422Z"
   },
   {
    "duration": 17,
    "start_time": "2024-09-05T02:18:04.095Z"
   },
   {
    "duration": 11,
    "start_time": "2024-09-05T02:25:03.063Z"
   },
   {
    "duration": 11,
    "start_time": "2024-09-05T02:25:09.841Z"
   },
   {
    "duration": 16,
    "start_time": "2024-09-05T02:25:13.654Z"
   },
   {
    "duration": 11,
    "start_time": "2024-09-05T02:25:37.064Z"
   },
   {
    "duration": 13,
    "start_time": "2024-09-05T02:26:01.896Z"
   },
   {
    "duration": 42,
    "start_time": "2024-09-05T02:28:45.102Z"
   },
   {
    "duration": 2,
    "start_time": "2024-09-05T02:29:37.173Z"
   },
   {
    "duration": 296,
    "start_time": "2024-09-05T02:29:37.180Z"
   },
   {
    "duration": 10,
    "start_time": "2024-09-05T02:29:37.479Z"
   },
   {
    "duration": 11,
    "start_time": "2024-09-05T02:29:37.491Z"
   },
   {
    "duration": 16,
    "start_time": "2024-09-05T02:29:37.511Z"
   },
   {
    "duration": 2,
    "start_time": "2024-09-05T02:30:29.473Z"
   },
   {
    "duration": 292,
    "start_time": "2024-09-05T02:30:29.478Z"
   },
   {
    "duration": 15,
    "start_time": "2024-09-05T02:30:29.775Z"
   },
   {
    "duration": 24,
    "start_time": "2024-09-05T02:30:29.793Z"
   },
   {
    "duration": 16,
    "start_time": "2024-09-05T02:30:29.819Z"
   },
   {
    "duration": 8,
    "start_time": "2024-09-05T02:31:30.264Z"
   },
   {
    "duration": 29,
    "start_time": "2024-09-05T02:31:53.773Z"
   },
   {
    "duration": 9,
    "start_time": "2024-09-05T02:33:15.572Z"
   },
   {
    "duration": 10,
    "start_time": "2024-09-05T02:34:12.656Z"
   },
   {
    "duration": 53,
    "start_time": "2024-09-05T02:34:28.843Z"
   },
   {
    "duration": 8,
    "start_time": "2024-09-05T02:35:22.698Z"
   },
   {
    "duration": 36,
    "start_time": "2024-09-05T02:35:35.751Z"
   },
   {
    "duration": 5,
    "start_time": "2024-09-05T02:37:37.143Z"
   },
   {
    "duration": 405,
    "start_time": "2024-09-05T02:37:37.150Z"
   },
   {
    "duration": 26,
    "start_time": "2024-09-05T02:37:37.558Z"
   },
   {
    "duration": 9,
    "start_time": "2024-09-05T02:37:37.586Z"
   },
   {
    "duration": 64,
    "start_time": "2024-09-05T02:37:37.597Z"
   },
   {
    "duration": 14,
    "start_time": "2024-09-05T02:37:37.663Z"
   },
   {
    "duration": 10,
    "start_time": "2024-09-05T02:37:37.679Z"
   },
   {
    "duration": 50,
    "start_time": "2024-09-05T02:37:37.690Z"
   },
   {
    "duration": 36,
    "start_time": "2024-09-05T02:37:37.741Z"
   },
   {
    "duration": 10,
    "start_time": "2024-09-05T02:37:37.779Z"
   },
   {
    "duration": 56,
    "start_time": "2024-09-05T02:37:37.792Z"
   },
   {
    "duration": 43,
    "start_time": "2024-09-05T02:50:37.161Z"
   },
   {
    "duration": 47,
    "start_time": "2024-09-05T02:51:23.348Z"
   },
   {
    "duration": 55,
    "start_time": "2024-09-05T02:51:36.229Z"
   },
   {
    "duration": 12,
    "start_time": "2024-09-05T02:52:15.066Z"
   },
   {
    "duration": 299,
    "start_time": "2024-09-05T03:01:22.270Z"
   },
   {
    "duration": 975,
    "start_time": "2024-09-05T03:02:42.365Z"
   },
   {
    "duration": 21,
    "start_time": "2024-09-05T03:02:59.839Z"
   },
   {
    "duration": 33,
    "start_time": "2024-09-05T03:05:26.202Z"
   },
   {
    "duration": 10,
    "start_time": "2024-09-05T03:06:28.508Z"
   },
   {
    "duration": 9,
    "start_time": "2024-09-05T03:06:50.850Z"
   },
   {
    "duration": 12,
    "start_time": "2024-09-05T03:07:08.101Z"
   },
   {
    "duration": 31,
    "start_time": "2024-09-05T03:13:21.610Z"
   },
   {
    "duration": 22,
    "start_time": "2024-09-05T03:13:32.190Z"
   },
   {
    "duration": 342,
    "start_time": "2024-09-05T03:13:32.224Z"
   },
   {
    "duration": 13,
    "start_time": "2024-09-05T03:13:32.568Z"
   },
   {
    "duration": 9,
    "start_time": "2024-09-05T03:13:32.584Z"
   },
   {
    "duration": 64,
    "start_time": "2024-09-05T03:13:32.595Z"
   },
   {
    "duration": 18,
    "start_time": "2024-09-05T03:13:32.661Z"
   },
   {
    "duration": 7,
    "start_time": "2024-09-05T03:13:32.681Z"
   },
   {
    "duration": 63,
    "start_time": "2024-09-05T03:13:32.690Z"
   },
   {
    "duration": 15,
    "start_time": "2024-09-05T03:13:32.755Z"
   },
   {
    "duration": 7,
    "start_time": "2024-09-05T03:13:32.773Z"
   },
   {
    "duration": 67,
    "start_time": "2024-09-05T03:13:32.781Z"
   },
   {
    "duration": 41,
    "start_time": "2024-09-05T03:13:32.851Z"
   },
   {
    "duration": 19,
    "start_time": "2024-09-05T03:13:32.893Z"
   },
   {
    "duration": 23,
    "start_time": "2024-09-05T03:13:32.917Z"
   },
   {
    "duration": 28,
    "start_time": "2024-09-05T03:13:32.949Z"
   },
   {
    "duration": 14,
    "start_time": "2024-09-05T03:15:28.476Z"
   },
   {
    "duration": 6,
    "start_time": "2024-09-05T03:18:49.974Z"
   },
   {
    "duration": 19,
    "start_time": "2024-09-05T03:18:51.529Z"
   },
   {
    "duration": 49,
    "start_time": "2024-09-05T03:21:14.293Z"
   },
   {
    "duration": 9,
    "start_time": "2024-09-05T03:29:01.578Z"
   },
   {
    "duration": 44,
    "start_time": "2024-09-05T03:30:05.400Z"
   },
   {
    "duration": 791,
    "start_time": "2024-09-09T02:59:47.986Z"
   },
   {
    "duration": 347,
    "start_time": "2024-09-09T02:59:48.779Z"
   },
   {
    "duration": 14,
    "start_time": "2024-09-09T02:59:49.128Z"
   },
   {
    "duration": 11,
    "start_time": "2024-09-09T02:59:49.145Z"
   },
   {
    "duration": 40,
    "start_time": "2024-09-09T02:59:49.158Z"
   },
   {
    "duration": 10,
    "start_time": "2024-09-09T02:59:49.200Z"
   },
   {
    "duration": 8,
    "start_time": "2024-09-09T02:59:49.212Z"
   },
   {
    "duration": 27,
    "start_time": "2024-09-09T02:59:49.221Z"
   },
   {
    "duration": 40,
    "start_time": "2024-09-09T02:59:49.250Z"
   },
   {
    "duration": 8,
    "start_time": "2024-09-09T02:59:49.293Z"
   },
   {
    "duration": 30,
    "start_time": "2024-09-09T02:59:49.302Z"
   },
   {
    "duration": 34,
    "start_time": "2024-09-09T02:59:49.333Z"
   },
   {
    "duration": 8,
    "start_time": "2024-09-09T02:59:49.387Z"
   },
   {
    "duration": 7,
    "start_time": "2024-09-09T02:59:49.396Z"
   },
   {
    "duration": 15,
    "start_time": "2024-09-09T02:59:49.404Z"
   },
   {
    "duration": 69,
    "start_time": "2024-09-09T02:59:49.421Z"
   },
   {
    "duration": 13,
    "start_time": "2024-09-09T02:59:49.491Z"
   },
   {
    "duration": 806,
    "start_time": "2024-09-10T02:42:14.932Z"
   },
   {
    "duration": 349,
    "start_time": "2024-09-10T02:42:15.740Z"
   },
   {
    "duration": 14,
    "start_time": "2024-09-10T02:42:16.090Z"
   },
   {
    "duration": 10,
    "start_time": "2024-09-10T02:42:16.105Z"
   },
   {
    "duration": 46,
    "start_time": "2024-09-10T02:42:16.117Z"
   },
   {
    "duration": 11,
    "start_time": "2024-09-10T02:42:16.165Z"
   },
   {
    "duration": 8,
    "start_time": "2024-09-10T02:42:16.177Z"
   },
   {
    "duration": 31,
    "start_time": "2024-09-10T02:42:16.187Z"
   },
   {
    "duration": 34,
    "start_time": "2024-09-10T02:42:16.219Z"
   },
   {
    "duration": 9,
    "start_time": "2024-09-10T02:42:16.254Z"
   },
   {
    "duration": 32,
    "start_time": "2024-09-10T02:42:16.265Z"
   },
   {
    "duration": 64,
    "start_time": "2024-09-10T02:42:16.299Z"
   },
   {
    "duration": 7,
    "start_time": "2024-09-10T02:42:16.364Z"
   },
   {
    "duration": 5,
    "start_time": "2024-09-10T02:42:16.375Z"
   },
   {
    "duration": 18,
    "start_time": "2024-09-10T02:42:16.382Z"
   },
   {
    "duration": 12,
    "start_time": "2024-09-10T02:42:16.443Z"
   },
   {
    "duration": 89,
    "start_time": "2024-09-10T02:42:16.457Z"
   },
   {
    "duration": 959,
    "start_time": "2024-09-10T02:47:20.543Z"
   },
   {
    "duration": 635,
    "start_time": "2024-09-10T02:50:35.514Z"
   },
   {
    "duration": 6,
    "start_time": "2024-09-10T02:54:23.954Z"
   },
   {
    "duration": 1047,
    "start_time": "2024-09-10T02:54:41.704Z"
   },
   {
    "duration": 782,
    "start_time": "2024-09-12T04:03:17.504Z"
   },
   {
    "duration": 336,
    "start_time": "2024-09-12T04:03:18.289Z"
   },
   {
    "duration": 13,
    "start_time": "2024-09-12T04:03:18.627Z"
   },
   {
    "duration": 10,
    "start_time": "2024-09-12T04:03:18.642Z"
   },
   {
    "duration": 41,
    "start_time": "2024-09-12T04:03:18.654Z"
   },
   {
    "duration": 10,
    "start_time": "2024-09-12T04:03:18.697Z"
   },
   {
    "duration": 7,
    "start_time": "2024-09-12T04:03:18.709Z"
   },
   {
    "duration": 53,
    "start_time": "2024-09-12T04:03:18.718Z"
   },
   {
    "duration": 11,
    "start_time": "2024-09-12T04:03:18.773Z"
   },
   {
    "duration": 8,
    "start_time": "2024-09-12T04:03:18.786Z"
   },
   {
    "duration": 31,
    "start_time": "2024-09-12T04:03:18.796Z"
   },
   {
    "duration": 61,
    "start_time": "2024-09-12T04:03:18.829Z"
   },
   {
    "duration": 10,
    "start_time": "2024-09-12T04:03:18.892Z"
   },
   {
    "duration": 5,
    "start_time": "2024-09-12T04:03:18.904Z"
   },
   {
    "duration": 16,
    "start_time": "2024-09-12T04:03:18.910Z"
   },
   {
    "duration": 49,
    "start_time": "2024-09-12T04:03:18.927Z"
   },
   {
    "duration": 12,
    "start_time": "2024-09-12T04:03:18.978Z"
   },
   {
    "duration": 1196,
    "start_time": "2024-09-12T04:03:18.992Z"
   },
   {
    "duration": 612,
    "start_time": "2024-09-12T04:05:52.161Z"
   },
   {
    "duration": 3,
    "start_time": "2024-09-12T04:46:26.596Z"
   },
   {
    "duration": 15,
    "start_time": "2024-09-12T04:48:16.583Z"
   },
   {
    "duration": 11,
    "start_time": "2024-09-12T04:51:00.626Z"
   },
   {
    "duration": 3,
    "start_time": "2024-09-12T05:43:42.409Z"
   },
   {
    "duration": 866,
    "start_time": "2024-09-12T05:49:37.252Z"
   },
   {
    "duration": 30,
    "start_time": "2024-09-12T05:50:16.252Z"
   },
   {
    "duration": 3,
    "start_time": "2024-09-12T05:53:15.796Z"
   },
   {
    "duration": 971,
    "start_time": "2024-09-12T05:53:21.906Z"
   },
   {
    "duration": 739,
    "start_time": "2024-09-12T05:53:59.152Z"
   },
   {
    "duration": 793,
    "start_time": "2024-09-15T17:35:24.882Z"
   },
   {
    "duration": 342,
    "start_time": "2024-09-15T17:35:25.677Z"
   },
   {
    "duration": 13,
    "start_time": "2024-09-15T17:35:26.020Z"
   },
   {
    "duration": 10,
    "start_time": "2024-09-15T17:35:26.036Z"
   },
   {
    "duration": 47,
    "start_time": "2024-09-15T17:35:26.048Z"
   },
   {
    "duration": 11,
    "start_time": "2024-09-15T17:35:26.097Z"
   },
   {
    "duration": 7,
    "start_time": "2024-09-15T17:35:26.109Z"
   },
   {
    "duration": 29,
    "start_time": "2024-09-15T17:35:26.118Z"
   },
   {
    "duration": 10,
    "start_time": "2024-09-15T17:35:26.171Z"
   },
   {
    "duration": 8,
    "start_time": "2024-09-15T17:35:26.184Z"
   },
   {
    "duration": 32,
    "start_time": "2024-09-15T17:35:26.193Z"
   },
   {
    "duration": 58,
    "start_time": "2024-09-15T17:35:26.227Z"
   },
   {
    "duration": 7,
    "start_time": "2024-09-15T17:35:26.287Z"
   },
   {
    "duration": 5,
    "start_time": "2024-09-15T17:35:26.296Z"
   },
   {
    "duration": 11,
    "start_time": "2024-09-15T17:35:26.303Z"
   },
   {
    "duration": 57,
    "start_time": "2024-09-15T17:35:26.315Z"
   },
   {
    "duration": 13,
    "start_time": "2024-09-15T17:35:26.374Z"
   },
   {
    "duration": 885,
    "start_time": "2024-09-15T17:35:26.388Z"
   },
   {
    "duration": 157,
    "start_time": "2024-09-16T01:46:55.711Z"
   },
   {
    "duration": 24,
    "start_time": "2024-09-16T01:48:03.115Z"
   },
   {
    "duration": 781,
    "start_time": "2024-09-16T01:48:15.634Z"
   },
   {
    "duration": 424,
    "start_time": "2024-09-16T01:48:16.417Z"
   },
   {
    "duration": 12,
    "start_time": "2024-09-16T01:48:16.843Z"
   },
   {
    "duration": 10,
    "start_time": "2024-09-16T01:48:16.857Z"
   },
   {
    "duration": 41,
    "start_time": "2024-09-16T01:48:16.869Z"
   },
   {
    "duration": 12,
    "start_time": "2024-09-16T01:48:16.911Z"
   },
   {
    "duration": 7,
    "start_time": "2024-09-16T01:48:16.925Z"
   },
   {
    "duration": 51,
    "start_time": "2024-09-16T01:48:16.936Z"
   },
   {
    "duration": 13,
    "start_time": "2024-09-16T01:48:16.989Z"
   },
   {
    "duration": 7,
    "start_time": "2024-09-16T01:48:17.004Z"
   },
   {
    "duration": 31,
    "start_time": "2024-09-16T01:48:17.013Z"
   },
   {
    "duration": 98,
    "start_time": "2024-09-16T01:48:17.046Z"
   },
   {
    "duration": 0,
    "start_time": "2024-09-16T01:48:17.146Z"
   },
   {
    "duration": 0,
    "start_time": "2024-09-16T01:48:17.147Z"
   },
   {
    "duration": 15,
    "start_time": "2024-09-16T01:48:26.275Z"
   },
   {
    "duration": 18,
    "start_time": "2024-09-16T01:50:52.144Z"
   },
   {
    "duration": 3,
    "start_time": "2024-09-16T01:51:09.210Z"
   },
   {
    "duration": 267,
    "start_time": "2024-09-16T01:51:09.217Z"
   },
   {
    "duration": 13,
    "start_time": "2024-09-16T01:51:09.486Z"
   },
   {
    "duration": 7,
    "start_time": "2024-09-16T01:51:09.500Z"
   },
   {
    "duration": 39,
    "start_time": "2024-09-16T01:51:09.510Z"
   },
   {
    "duration": 36,
    "start_time": "2024-09-16T01:51:09.551Z"
   },
   {
    "duration": 9,
    "start_time": "2024-09-16T01:51:09.588Z"
   },
   {
    "duration": 29,
    "start_time": "2024-09-16T01:51:09.599Z"
   },
   {
    "duration": 11,
    "start_time": "2024-09-16T01:51:09.632Z"
   },
   {
    "duration": 8,
    "start_time": "2024-09-16T01:51:09.645Z"
   },
   {
    "duration": 56,
    "start_time": "2024-09-16T01:51:09.656Z"
   },
   {
    "duration": 27,
    "start_time": "2024-09-16T01:51:09.715Z"
   },
   {
    "duration": 22,
    "start_time": "2024-09-16T01:51:09.744Z"
   },
   {
    "duration": 27,
    "start_time": "2024-09-16T01:51:09.767Z"
   },
   {
    "duration": 7,
    "start_time": "2024-09-16T01:51:16.952Z"
   },
   {
    "duration": 3,
    "start_time": "2024-09-16T01:58:55.044Z"
   },
   {
    "duration": 279,
    "start_time": "2024-09-16T01:58:55.049Z"
   },
   {
    "duration": 11,
    "start_time": "2024-09-16T01:58:55.330Z"
   },
   {
    "duration": 8,
    "start_time": "2024-09-16T01:58:55.343Z"
   },
   {
    "duration": 56,
    "start_time": "2024-09-16T01:58:55.352Z"
   },
   {
    "duration": 12,
    "start_time": "2024-09-16T01:58:55.410Z"
   },
   {
    "duration": 9,
    "start_time": "2024-09-16T01:58:55.424Z"
   },
   {
    "duration": 30,
    "start_time": "2024-09-16T01:58:55.434Z"
   },
   {
    "duration": 13,
    "start_time": "2024-09-16T01:58:55.486Z"
   },
   {
    "duration": 7,
    "start_time": "2024-09-16T01:58:55.501Z"
   },
   {
    "duration": 31,
    "start_time": "2024-09-16T01:58:55.510Z"
   },
   {
    "duration": 46,
    "start_time": "2024-09-16T01:58:55.543Z"
   },
   {
    "duration": 22,
    "start_time": "2024-09-16T01:58:55.592Z"
   },
   {
    "duration": 31,
    "start_time": "2024-09-16T01:58:55.615Z"
   },
   {
    "duration": 6,
    "start_time": "2024-09-16T01:58:55.686Z"
   },
   {
    "duration": 95,
    "start_time": "2024-09-16T01:58:55.694Z"
   },
   {
    "duration": 795,
    "start_time": "2024-09-16T01:58:55.791Z"
   },
   {
    "duration": 4,
    "start_time": "2024-09-16T01:58:56.589Z"
   },
   {
    "duration": 4,
    "start_time": "2024-09-16T01:58:56.596Z"
   },
   {
    "duration": 17,
    "start_time": "2024-09-16T01:58:56.602Z"
   },
   {
    "duration": 4,
    "start_time": "2024-09-16T01:58:56.620Z"
   },
   {
    "duration": 2177,
    "start_time": "2024-09-16T01:58:56.626Z"
   },
   {
    "duration": 5,
    "start_time": "2024-09-16T02:54:27.862Z"
   },
   {
    "duration": 230,
    "start_time": "2024-09-16T02:54:27.869Z"
   },
   {
    "duration": 13,
    "start_time": "2024-09-16T02:54:28.103Z"
   },
   {
    "duration": 16,
    "start_time": "2024-09-16T02:54:28.118Z"
   },
   {
    "duration": 50,
    "start_time": "2024-09-16T02:54:28.136Z"
   },
   {
    "duration": 13,
    "start_time": "2024-09-16T02:54:28.188Z"
   },
   {
    "duration": 7,
    "start_time": "2024-09-16T02:54:28.203Z"
   },
   {
    "duration": 27,
    "start_time": "2024-09-16T02:54:28.212Z"
   },
   {
    "duration": 11,
    "start_time": "2024-09-16T02:54:28.242Z"
   },
   {
    "duration": 35,
    "start_time": "2024-09-16T02:54:28.255Z"
   },
   {
    "duration": 30,
    "start_time": "2024-09-16T02:54:28.291Z"
   },
   {
    "duration": 27,
    "start_time": "2024-09-16T02:54:28.323Z"
   },
   {
    "duration": 37,
    "start_time": "2024-09-16T02:54:28.351Z"
   },
   {
    "duration": 10,
    "start_time": "2024-09-16T02:54:28.390Z"
   },
   {
    "duration": 6,
    "start_time": "2024-09-16T02:54:28.402Z"
   },
   {
    "duration": 78,
    "start_time": "2024-09-16T02:54:28.410Z"
   },
   {
    "duration": 322,
    "start_time": "2024-09-16T02:54:28.492Z"
   },
   {
    "duration": 73,
    "start_time": "2024-09-16T02:54:28.815Z"
   },
   {
    "duration": 13,
    "start_time": "2024-09-16T02:54:28.890Z"
   },
   {
    "duration": 16,
    "start_time": "2024-09-16T02:54:28.907Z"
   },
   {
    "duration": 4,
    "start_time": "2024-09-16T02:54:28.925Z"
   },
   {
    "duration": 2127,
    "start_time": "2024-09-16T02:54:28.932Z"
   },
   {
    "duration": 833,
    "start_time": "2024-09-16T06:31:08.277Z"
   },
   {
    "duration": 326,
    "start_time": "2024-09-16T06:31:09.112Z"
   },
   {
    "duration": 13,
    "start_time": "2024-09-16T06:31:09.441Z"
   },
   {
    "duration": 9,
    "start_time": "2024-09-16T06:31:09.456Z"
   },
   {
    "duration": 41,
    "start_time": "2024-09-16T06:31:09.466Z"
   },
   {
    "duration": 10,
    "start_time": "2024-09-16T06:31:09.509Z"
   },
   {
    "duration": 7,
    "start_time": "2024-09-16T06:31:09.521Z"
   },
   {
    "duration": 28,
    "start_time": "2024-09-16T06:31:09.529Z"
   },
   {
    "duration": 11,
    "start_time": "2024-09-16T06:31:09.559Z"
   },
   {
    "duration": 37,
    "start_time": "2024-09-16T06:31:09.573Z"
   },
   {
    "duration": 33,
    "start_time": "2024-09-16T06:31:09.612Z"
   },
   {
    "duration": 28,
    "start_time": "2024-09-16T06:31:09.646Z"
   },
   {
    "duration": 37,
    "start_time": "2024-09-16T06:31:09.675Z"
   },
   {
    "duration": 6,
    "start_time": "2024-09-16T06:31:09.713Z"
   },
   {
    "duration": 7,
    "start_time": "2024-09-16T06:31:09.721Z"
   },
   {
    "duration": 92,
    "start_time": "2024-09-16T06:31:09.730Z"
   },
   {
    "duration": 588,
    "start_time": "2024-09-16T06:31:09.824Z"
   },
   {
    "duration": 4,
    "start_time": "2024-09-16T06:31:10.419Z"
   },
   {
    "duration": 79,
    "start_time": "2024-09-16T06:31:10.428Z"
   },
   {
    "duration": 14,
    "start_time": "2024-09-16T06:31:10.511Z"
   },
   {
    "duration": 4,
    "start_time": "2024-09-16T06:31:10.526Z"
   },
   {
    "duration": 2125,
    "start_time": "2024-09-16T06:31:10.531Z"
   },
   {
    "duration": 200,
    "start_time": "2024-09-16T13:57:48.250Z"
   },
   {
    "duration": 804,
    "start_time": "2024-09-16T13:57:53.770Z"
   },
   {
    "duration": 363,
    "start_time": "2024-09-16T13:57:54.576Z"
   },
   {
    "duration": 12,
    "start_time": "2024-09-16T13:57:54.941Z"
   },
   {
    "duration": 10,
    "start_time": "2024-09-16T13:57:54.956Z"
   },
   {
    "duration": 44,
    "start_time": "2024-09-16T13:57:54.968Z"
   },
   {
    "duration": 12,
    "start_time": "2024-09-16T13:57:55.014Z"
   },
   {
    "duration": 9,
    "start_time": "2024-09-16T13:57:55.028Z"
   },
   {
    "duration": 65,
    "start_time": "2024-09-16T13:57:55.039Z"
   },
   {
    "duration": 13,
    "start_time": "2024-09-16T13:57:55.105Z"
   },
   {
    "duration": 9,
    "start_time": "2024-09-16T13:57:55.120Z"
   },
   {
    "duration": 33,
    "start_time": "2024-09-16T13:57:55.130Z"
   },
   {
    "duration": 50,
    "start_time": "2024-09-16T13:57:55.165Z"
   },
   {
    "duration": 25,
    "start_time": "2024-09-16T13:57:56.402Z"
   },
   {
    "duration": 45,
    "start_time": "2024-09-16T14:03:18.966Z"
   },
   {
    "duration": 3,
    "start_time": "2024-09-16T14:05:38.661Z"
   },
   {
    "duration": 245,
    "start_time": "2024-09-16T14:05:38.667Z"
   },
   {
    "duration": 12,
    "start_time": "2024-09-16T14:05:38.914Z"
   },
   {
    "duration": 9,
    "start_time": "2024-09-16T14:05:38.929Z"
   },
   {
    "duration": 54,
    "start_time": "2024-09-16T14:05:38.939Z"
   },
   {
    "duration": 11,
    "start_time": "2024-09-16T14:05:38.996Z"
   },
   {
    "duration": 8,
    "start_time": "2024-09-16T14:05:39.010Z"
   },
   {
    "duration": 31,
    "start_time": "2024-09-16T14:05:39.020Z"
   },
   {
    "duration": 39,
    "start_time": "2024-09-16T14:05:39.054Z"
   },
   {
    "duration": 9,
    "start_time": "2024-09-16T14:05:39.095Z"
   },
   {
    "duration": 33,
    "start_time": "2024-09-16T14:05:39.106Z"
   },
   {
    "duration": 55,
    "start_time": "2024-09-16T14:05:39.142Z"
   },
   {
    "duration": 49,
    "start_time": "2024-09-16T14:05:39.199Z"
   },
   {
    "duration": 2900,
    "start_time": "2024-09-17T02:14:14.135Z"
   },
   {
    "duration": 255,
    "start_time": "2024-09-17T02:14:29.976Z"
   },
   {
    "duration": 3,
    "start_time": "2024-09-17T02:14:34.884Z"
   },
   {
    "duration": 389,
    "start_time": "2024-09-17T02:14:34.892Z"
   },
   {
    "duration": 18,
    "start_time": "2024-09-17T02:14:35.282Z"
   },
   {
    "duration": 10,
    "start_time": "2024-09-17T02:14:35.302Z"
   },
   {
    "duration": 48,
    "start_time": "2024-09-17T02:14:35.314Z"
   },
   {
    "duration": 14,
    "start_time": "2024-09-17T02:14:35.365Z"
   },
   {
    "duration": 10,
    "start_time": "2024-09-17T02:14:35.381Z"
   },
   {
    "duration": 58,
    "start_time": "2024-09-17T02:14:35.393Z"
   },
   {
    "duration": 14,
    "start_time": "2024-09-17T02:14:35.452Z"
   },
   {
    "duration": 8,
    "start_time": "2024-09-17T02:14:35.468Z"
   },
   {
    "duration": 33,
    "start_time": "2024-09-17T02:14:35.477Z"
   },
   {
    "duration": 32,
    "start_time": "2024-09-17T02:14:35.532Z"
   },
   {
    "duration": 47,
    "start_time": "2024-09-17T02:14:35.566Z"
   },
   {
    "duration": 8783,
    "start_time": "2024-09-17T02:14:44.532Z"
   },
   {
    "duration": 1191,
    "start_time": "2024-09-17T02:24:41.295Z"
   },
   {
    "duration": 462,
    "start_time": "2024-09-17T02:25:19.080Z"
   },
   {
    "duration": 422,
    "start_time": "2024-09-17T02:25:32.363Z"
   },
   {
    "duration": 445,
    "start_time": "2024-09-17T02:26:14.937Z"
   },
   {
    "duration": 446,
    "start_time": "2024-09-17T02:26:38.343Z"
   },
   {
    "duration": 405,
    "start_time": "2024-09-17T02:27:08.181Z"
   },
   {
    "duration": 518,
    "start_time": "2024-09-17T02:35:06.487Z"
   },
   {
    "duration": 425,
    "start_time": "2024-09-17T02:35:08.658Z"
   },
   {
    "duration": 3,
    "start_time": "2024-09-17T02:45:57.555Z"
   },
   {
    "duration": 17,
    "start_time": "2024-09-17T02:48:06.080Z"
   },
   {
    "duration": 3,
    "start_time": "2024-09-17T02:48:16.651Z"
   },
   {
    "duration": 210,
    "start_time": "2024-09-17T02:48:16.656Z"
   },
   {
    "duration": 13,
    "start_time": "2024-09-17T02:48:16.868Z"
   },
   {
    "duration": 9,
    "start_time": "2024-09-17T02:48:16.883Z"
   },
   {
    "duration": 46,
    "start_time": "2024-09-17T02:48:16.895Z"
   },
   {
    "duration": 12,
    "start_time": "2024-09-17T02:48:16.942Z"
   },
   {
    "duration": 10,
    "start_time": "2024-09-17T02:48:16.955Z"
   },
   {
    "duration": 29,
    "start_time": "2024-09-17T02:48:16.966Z"
   },
   {
    "duration": 36,
    "start_time": "2024-09-17T02:48:16.997Z"
   },
   {
    "duration": 8,
    "start_time": "2024-09-17T02:48:17.035Z"
   },
   {
    "duration": 30,
    "start_time": "2024-09-17T02:48:17.046Z"
   },
   {
    "duration": 24,
    "start_time": "2024-09-17T02:48:17.079Z"
   },
   {
    "duration": 74,
    "start_time": "2024-09-17T02:48:17.105Z"
   },
   {
    "duration": 404,
    "start_time": "2024-09-17T02:48:17.181Z"
   },
   {
    "duration": 406,
    "start_time": "2024-09-17T02:48:17.586Z"
   },
   {
    "duration": 398,
    "start_time": "2024-09-17T02:48:17.995Z"
   },
   {
    "duration": 36,
    "start_time": "2024-09-17T02:48:18.395Z"
   },
   {
    "duration": 18,
    "start_time": "2024-09-17T02:48:18.435Z"
   },
   {
    "duration": 12,
    "start_time": "2024-09-17T02:48:18.455Z"
   },
   {
    "duration": 63,
    "start_time": "2024-09-17T02:48:18.470Z"
   },
   {
    "duration": 23,
    "start_time": "2024-09-17T02:48:18.535Z"
   },
   {
    "duration": 421,
    "start_time": "2024-09-17T02:48:18.632Z"
   },
   {
    "duration": 82,
    "start_time": "2024-09-17T02:48:19.055Z"
   },
   {
    "duration": 5,
    "start_time": "2024-09-17T02:48:19.141Z"
   },
   {
    "duration": 5,
    "start_time": "2024-09-17T02:48:20.952Z"
   },
   {
    "duration": 3,
    "start_time": "2024-09-17T02:52:39.318Z"
   },
   {
    "duration": 230,
    "start_time": "2024-09-17T02:52:39.325Z"
   },
   {
    "duration": 11,
    "start_time": "2024-09-17T02:52:39.557Z"
   },
   {
    "duration": 7,
    "start_time": "2024-09-17T02:52:39.570Z"
   },
   {
    "duration": 30,
    "start_time": "2024-09-17T02:52:39.579Z"
   },
   {
    "duration": 10,
    "start_time": "2024-09-17T02:52:39.631Z"
   },
   {
    "duration": 8,
    "start_time": "2024-09-17T02:52:39.643Z"
   },
   {
    "duration": 32,
    "start_time": "2024-09-17T02:52:39.652Z"
   },
   {
    "duration": 12,
    "start_time": "2024-09-17T02:52:39.686Z"
   },
   {
    "duration": 7,
    "start_time": "2024-09-17T02:52:39.699Z"
   },
   {
    "duration": 30,
    "start_time": "2024-09-17T02:52:39.731Z"
   },
   {
    "duration": 27,
    "start_time": "2024-09-17T02:52:39.763Z"
   },
   {
    "duration": 62,
    "start_time": "2024-09-17T02:52:39.792Z"
   },
   {
    "duration": 415,
    "start_time": "2024-09-17T02:52:39.856Z"
   },
   {
    "duration": 406,
    "start_time": "2024-09-17T02:52:40.275Z"
   },
   {
    "duration": 390,
    "start_time": "2024-09-17T02:52:40.685Z"
   },
   {
    "duration": 22,
    "start_time": "2024-09-17T02:52:41.078Z"
   },
   {
    "duration": 32,
    "start_time": "2024-09-17T02:52:41.102Z"
   },
   {
    "duration": 14,
    "start_time": "2024-09-17T02:52:41.136Z"
   },
   {
    "duration": 8,
    "start_time": "2024-09-17T02:52:41.151Z"
   },
   {
    "duration": 86,
    "start_time": "2024-09-17T02:52:41.160Z"
   },
   {
    "duration": 495,
    "start_time": "2024-09-17T02:52:41.248Z"
   },
   {
    "duration": 6,
    "start_time": "2024-09-17T02:52:41.745Z"
   },
   {
    "duration": 77,
    "start_time": "2024-09-17T02:52:41.756Z"
   },
   {
    "duration": 6,
    "start_time": "2024-09-17T02:52:41.837Z"
   },
   {
    "duration": 26,
    "start_time": "2024-09-17T02:52:41.845Z"
   },
   {
    "duration": 0,
    "start_time": "2024-09-17T02:52:41.873Z"
   },
   {
    "duration": 0,
    "start_time": "2024-09-17T02:52:41.874Z"
   },
   {
    "duration": 26,
    "start_time": "2024-09-17T02:53:36.425Z"
   },
   {
    "duration": 47,
    "start_time": "2024-09-17T02:54:34.384Z"
   },
   {
    "duration": 30,
    "start_time": "2024-09-17T02:55:01.964Z"
   },
   {
    "duration": 2749,
    "start_time": "2024-09-17T05:32:52.600Z"
   },
   {
    "duration": 345,
    "start_time": "2024-09-17T05:32:55.352Z"
   },
   {
    "duration": 13,
    "start_time": "2024-09-17T05:32:55.698Z"
   },
   {
    "duration": 8,
    "start_time": "2024-09-17T05:32:55.713Z"
   },
   {
    "duration": 38,
    "start_time": "2024-09-17T05:32:55.722Z"
   },
   {
    "duration": 11,
    "start_time": "2024-09-17T05:32:55.762Z"
   },
   {
    "duration": 9,
    "start_time": "2024-09-17T05:32:55.774Z"
   },
   {
    "duration": 50,
    "start_time": "2024-09-17T05:32:55.784Z"
   },
   {
    "duration": 11,
    "start_time": "2024-09-17T05:32:55.836Z"
   },
   {
    "duration": 7,
    "start_time": "2024-09-17T05:32:55.850Z"
   },
   {
    "duration": 33,
    "start_time": "2024-09-17T05:32:55.859Z"
   },
   {
    "duration": 45,
    "start_time": "2024-09-17T05:32:55.893Z"
   },
   {
    "duration": 45,
    "start_time": "2024-09-17T05:32:55.940Z"
   },
   {
    "duration": 411,
    "start_time": "2024-09-17T05:32:55.987Z"
   },
   {
    "duration": 390,
    "start_time": "2024-09-17T05:32:56.399Z"
   },
   {
    "duration": 401,
    "start_time": "2024-09-17T05:32:56.791Z"
   },
   {
    "duration": 87,
    "start_time": "2024-09-17T05:32:57.194Z"
   },
   {
    "duration": 49,
    "start_time": "2024-09-17T05:32:57.283Z"
   },
   {
    "duration": 16,
    "start_time": "2024-09-17T05:32:57.337Z"
   },
   {
    "duration": 77,
    "start_time": "2024-09-17T05:32:57.356Z"
   },
   {
    "duration": 19,
    "start_time": "2024-09-17T05:32:57.435Z"
   },
   {
    "duration": 692,
    "start_time": "2024-09-17T05:32:57.456Z"
   },
   {
    "duration": 3,
    "start_time": "2024-09-17T05:32:58.152Z"
   },
   {
    "duration": 83,
    "start_time": "2024-09-17T05:32:58.157Z"
   },
   {
    "duration": 5,
    "start_time": "2024-09-17T05:32:58.242Z"
   },
   {
    "duration": 273,
    "start_time": "2024-09-17T05:32:58.250Z"
   },
   {
    "duration": 0,
    "start_time": "2024-09-17T05:32:58.525Z"
   },
   {
    "duration": 0,
    "start_time": "2024-09-17T05:32:58.526Z"
   },
   {
    "duration": 175,
    "start_time": "2024-09-17T05:44:36.754Z"
   },
   {
    "duration": 3017,
    "start_time": "2024-09-17T05:44:47.008Z"
   },
   {
    "duration": 395,
    "start_time": "2024-09-17T05:44:50.028Z"
   },
   {
    "duration": 12,
    "start_time": "2024-09-17T05:44:50.426Z"
   },
   {
    "duration": 9,
    "start_time": "2024-09-17T05:44:50.441Z"
   },
   {
    "duration": 43,
    "start_time": "2024-09-17T05:44:50.452Z"
   },
   {
    "duration": 11,
    "start_time": "2024-09-17T05:44:50.511Z"
   },
   {
    "duration": 7,
    "start_time": "2024-09-17T05:44:50.524Z"
   },
   {
    "duration": 30,
    "start_time": "2024-09-17T05:44:50.533Z"
   },
   {
    "duration": 11,
    "start_time": "2024-09-17T05:44:50.565Z"
   },
   {
    "duration": 36,
    "start_time": "2024-09-17T05:44:50.579Z"
   },
   {
    "duration": 32,
    "start_time": "2024-09-17T05:44:50.616Z"
   },
   {
    "duration": 21,
    "start_time": "2024-09-17T05:44:50.650Z"
   },
   {
    "duration": 56,
    "start_time": "2024-09-17T05:44:50.672Z"
   },
   {
    "duration": 409,
    "start_time": "2024-09-17T05:44:50.730Z"
   },
   {
    "duration": 415,
    "start_time": "2024-09-17T05:44:51.141Z"
   },
   {
    "duration": 398,
    "start_time": "2024-09-17T05:44:51.558Z"
   },
   {
    "duration": 70,
    "start_time": "2024-09-17T05:44:51.958Z"
   },
   {
    "duration": 75,
    "start_time": "2024-09-17T05:44:52.030Z"
   },
   {
    "duration": 24,
    "start_time": "2024-09-17T05:44:52.107Z"
   },
   {
    "duration": 79,
    "start_time": "2024-09-17T05:44:52.133Z"
   },
   {
    "duration": 23,
    "start_time": "2024-09-17T05:44:52.218Z"
   },
   {
    "duration": 678,
    "start_time": "2024-09-17T05:44:52.243Z"
   },
   {
    "duration": 7,
    "start_time": "2024-09-17T05:44:52.924Z"
   },
   {
    "duration": 69,
    "start_time": "2024-09-17T05:44:52.933Z"
   },
   {
    "duration": 7,
    "start_time": "2024-09-17T05:44:53.010Z"
   },
   {
    "duration": 15,
    "start_time": "2024-09-17T05:44:53.020Z"
   },
   {
    "duration": 4,
    "start_time": "2024-09-17T05:44:53.037Z"
   },
   {
    "duration": 2315,
    "start_time": "2024-09-17T05:44:53.045Z"
   },
   {
    "duration": 4,
    "start_time": "2024-09-17T05:46:09.171Z"
   },
   {
    "duration": 257,
    "start_time": "2024-09-17T05:46:09.207Z"
   },
   {
    "duration": 11,
    "start_time": "2024-09-17T05:46:09.466Z"
   },
   {
    "duration": 26,
    "start_time": "2024-09-17T05:46:09.479Z"
   },
   {
    "duration": 33,
    "start_time": "2024-09-17T05:46:09.516Z"
   },
   {
    "duration": 11,
    "start_time": "2024-09-17T05:46:09.551Z"
   },
   {
    "duration": 8,
    "start_time": "2024-09-17T05:46:09.563Z"
   },
   {
    "duration": 32,
    "start_time": "2024-09-17T05:46:09.573Z"
   },
   {
    "duration": 12,
    "start_time": "2024-09-17T05:46:09.607Z"
   },
   {
    "duration": 8,
    "start_time": "2024-09-17T05:46:09.622Z"
   },
   {
    "duration": 31,
    "start_time": "2024-09-17T05:46:09.633Z"
   },
   {
    "duration": 61,
    "start_time": "2024-09-17T05:46:09.666Z"
   },
   {
    "duration": 50,
    "start_time": "2024-09-17T05:46:09.729Z"
   },
   {
    "duration": 452,
    "start_time": "2024-09-17T05:46:09.780Z"
   },
   {
    "duration": 414,
    "start_time": "2024-09-17T05:46:10.234Z"
   },
   {
    "duration": 396,
    "start_time": "2024-09-17T05:46:10.650Z"
   },
   {
    "duration": 42,
    "start_time": "2024-09-17T05:46:11.048Z"
   },
   {
    "duration": 29,
    "start_time": "2024-09-17T05:46:11.091Z"
   },
   {
    "duration": 8,
    "start_time": "2024-09-17T05:46:11.122Z"
   },
   {
    "duration": 5,
    "start_time": "2024-09-17T05:46:11.132Z"
   },
   {
    "duration": 79,
    "start_time": "2024-09-17T05:46:11.139Z"
   },
   {
    "duration": 498,
    "start_time": "2024-09-17T05:46:11.219Z"
   },
   {
    "duration": 5,
    "start_time": "2024-09-17T05:46:11.726Z"
   },
   {
    "duration": 16,
    "start_time": "2024-09-17T05:46:11.798Z"
   },
   {
    "duration": 4,
    "start_time": "2024-09-17T05:46:11.819Z"
   },
   {
    "duration": 14,
    "start_time": "2024-09-17T05:46:11.824Z"
   },
   {
    "duration": 4,
    "start_time": "2024-09-17T05:46:11.840Z"
   },
   {
    "duration": 2275,
    "start_time": "2024-09-17T05:46:11.846Z"
   }
  ],
  "kernelspec": {
   "display_name": "Python 3 (ipykernel)",
   "language": "python",
   "name": "python3"
  },
  "language_info": {
   "codemirror_mode": {
    "name": "ipython",
    "version": 3
   },
   "file_extension": ".py",
   "mimetype": "text/x-python",
   "name": "python",
   "nbconvert_exporter": "python",
   "pygments_lexer": "ipython3",
   "version": "3.9.19"
  },
  "toc": {
   "base_numbering": 1,
   "nav_menu": {},
   "number_sections": true,
   "sideBar": true,
   "skip_h1_title": true,
   "title_cell": "Table of Contents",
   "title_sidebar": "Contents",
   "toc_cell": false,
   "toc_position": {},
   "toc_section_display": true,
   "toc_window_display": false
  }
 },
 "nbformat": 4,
 "nbformat_minor": 2
}
